{
  "nbformat": 4,
  "nbformat_minor": 0,
  "metadata": {
    "colab": {
      "name": "custom architecture - fashionMNIST.ipynb",
      "provenance": [],
      "collapsed_sections": [],
      "authorship_tag": "ABX9TyNXKmcUn3u6SxhGszpbg8uY",
      "include_colab_link": true
    },
    "kernelspec": {
      "name": "python3",
      "display_name": "Python 3"
    },
    "language_info": {
      "name": "python"
    }
  },
  "cells": [
    {
      "cell_type": "markdown",
      "metadata": {
        "id": "view-in-github",
        "colab_type": "text"
      },
      "source": [
        "<a href=\"https://colab.research.google.com/github/sushi15/Fashion-MNIST/blob/main/custom_architecture_fashionMNIST.ipynb\" target=\"_parent\"><img src=\"https://colab.research.google.com/assets/colab-badge.svg\" alt=\"Open In Colab\"/></a>"
      ]
    },
    {
      "cell_type": "markdown",
      "metadata": {
        "id": "yAQzeITfF_iW"
      },
      "source": [
        "# Imports"
      ]
    },
    {
      "cell_type": "code",
      "metadata": {
        "id": "AvKnBLNkF-VA",
        "colab": {
          "base_uri": "https://localhost:8080/"
        },
        "outputId": "c626ea4a-12d2-46e1-f492-0c4013a26625"
      },
      "source": [
        "import itertools\n",
        "import os\n",
        "\n",
        "import matplotlib.pylab as plt \n",
        "from matplotlib import pyplot\n",
        "import numpy as np \n",
        "\n",
        "import tensorflow as tf\n",
        "import tensorflow_hub as hub \n",
        "from tensorflow.keras.utils import to_categorical \n",
        "from tensorflow.keras.callbacks import ModelCheckpoint \n",
        "\n",
        "import keras \n",
        "from keras.applications.vgg19 import preprocess_input \n",
        "from keras.models import Model\n",
        "from keras import models\n",
        "from keras import layers\n",
        "from keras import optimizers \n",
        "from tensorflow.python.keras.layers import Dense, Flatten, MaxPooling2D \n",
        "from tensorflow.python.keras import Sequential\n",
        "from tensorflow.keras.layers import Conv2D, InputLayer\n",
        "from tensorflow.keras.losses import CategoricalCrossentropy\n",
        "\n",
        "import random\n",
        "\n",
        "\n",
        "from google.colab import drive\n",
        "drive.mount('/content/gdrive') "
      ],
      "execution_count": null,
      "outputs": [
        {
          "output_type": "stream",
          "text": [
            "Mounted at /content/gdrive\n"
          ],
          "name": "stdout"
        }
      ]
    },
    {
      "cell_type": "code",
      "metadata": {
        "id": "JqJRoD9TOjsn"
      },
      "source": [
        "BATCH_SIZE = 128 #@param {type:\"slider\", min:0, max:256, step:2}"
      ],
      "execution_count": null,
      "outputs": []
    },
    {
      "cell_type": "code",
      "metadata": {
        "id": "g8rrErSIOk0a"
      },
      "source": [
        "EPOCH_SIZE = 25 #@param {type:\"integer\"}"
      ],
      "execution_count": null,
      "outputs": []
    },
    {
      "cell_type": "markdown",
      "metadata": {
        "id": "a987Am8kGKu0"
      },
      "source": [
        "# Load Fashion MNIST"
      ]
    },
    {
      "cell_type": "code",
      "metadata": {
        "id": "b_EsNaP0GQnl",
        "colab": {
          "base_uri": "https://localhost:8080/"
        },
        "outputId": "c0188442-0cb2-4830-9b7d-f065ba7efa42"
      },
      "source": [
        "(x_train, y_train), (x_test, y_test) = tf.keras.datasets.fashion_mnist.load_data()"
      ],
      "execution_count": null,
      "outputs": [
        {
          "output_type": "stream",
          "text": [
            "Downloading data from https://storage.googleapis.com/tensorflow/tf-keras-datasets/train-labels-idx1-ubyte.gz\n",
            "32768/29515 [=================================] - 0s 0us/step\n",
            "Downloading data from https://storage.googleapis.com/tensorflow/tf-keras-datasets/train-images-idx3-ubyte.gz\n",
            "26427392/26421880 [==============================] - 0s 0us/step\n",
            "Downloading data from https://storage.googleapis.com/tensorflow/tf-keras-datasets/t10k-labels-idx1-ubyte.gz\n",
            "8192/5148 [===============================================] - 0s 0us/step\n",
            "Downloading data from https://storage.googleapis.com/tensorflow/tf-keras-datasets/t10k-images-idx3-ubyte.gz\n",
            "4423680/4422102 [==============================] - 0s 0us/step\n"
          ],
          "name": "stdout"
        }
      ]
    },
    {
      "cell_type": "code",
      "metadata": {
        "id": "ddDCTl2G82kg"
      },
      "source": [
        "assert x_train.shape == (60000, 28, 28)\n",
        "assert x_test.shape == (10000, 28, 28)\n",
        "assert y_train.shape == (60000,)\n",
        "assert y_test.shape == (10000,)"
      ],
      "execution_count": null,
      "outputs": []
    },
    {
      "cell_type": "code",
      "metadata": {
        "colab": {
          "base_uri": "https://localhost:8080/",
          "height": 283
        },
        "id": "3hVMWMurQ215",
        "outputId": "6be50e62-df81-4acd-f96c-8ecfffb45932"
      },
      "source": [
        "plt.imshow(x_train[1]) \n",
        "print(y_train[1])"
      ],
      "execution_count": null,
      "outputs": [
        {
          "output_type": "stream",
          "text": [
            "0\n"
          ],
          "name": "stdout"
        },
        {
          "output_type": "display_data",
          "data": {
            "image/png": "[encoded data removed]",
            "text/plain": [
              "<Figure size 432x288 with 1 Axes>"
            ]
          },
          "metadata": {
            "tags": [],
            "needs_background": "light"
          }
        }
      ]
    },
    {
      "cell_type": "code",
      "metadata": {
        "colab": {
          "base_uri": "https://localhost:8080/",
          "height": 268
        },
        "id": "8DWAgDJlRAYT",
        "outputId": "4df6c5b9-d1fd-4018-e1e2-2431947c8850"
      },
      "source": [
        "for i in range(9):\n",
        "\tpyplot.subplot(330 + 1 + i)\n",
        "\tpyplot.imshow(x_train[i], cmap=pyplot.get_cmap('gray'))\n",
        "pyplot.show()"
      ],
      "execution_count": null,
      "outputs": [
        {
          "output_type": "display_data",
          "data": {
            "image/png": "[encoded data removed]",
            "text/plain": [
              "<Figure size 432x288 with 9 Axes>"
            ]
          },
          "metadata": {
            "tags": [],
            "needs_background": "light"
          }
        }
      ]
    },
    {
      "cell_type": "markdown",
      "metadata": {
        "id": "K6ut9Tj3P2L9"
      },
      "source": [
        "# Data Preprocessing"
      ]
    },
    {
      "cell_type": "code",
      "metadata": {
        "colab": {
          "base_uri": "https://localhost:8080/"
        },
        "id": "FUmZgLs0N3p2",
        "outputId": "af236655-9138-4aa9-b65a-77c9e7a15bf4"
      },
      "source": [
        "x_train = x_train.reshape((x_train.shape[0], 28, 28, 1))\n",
        "x_test = x_test.reshape((x_test.shape[0], 28, 28, 1)) \n",
        "print(x_train.shape) \n",
        "print(x_test.shape)"
      ],
      "execution_count": null,
      "outputs": [
        {
          "output_type": "stream",
          "text": [
            "(60000, 28, 28, 1)\n",
            "(10000, 28, 28, 1)\n"
          ],
          "name": "stdout"
        }
      ]
    },
    {
      "cell_type": "markdown",
      "metadata": {
        "id": "SZdFZlgt3KIs"
      },
      "source": [
        "Rescale values to range [0, 1]"
      ]
    },
    {
      "cell_type": "code",
      "metadata": {
        "id": "gH59jHauVQvK"
      },
      "source": [
        "x_train = x_train.astype('float32')\n",
        "x_test = x_test.astype('float32')\n",
        "\n",
        "x_train = x_train / 255.0\n",
        "x_test = x_test / 255.0"
      ],
      "execution_count": null,
      "outputs": []
    },
    {
      "cell_type": "markdown",
      "metadata": {
        "id": "O8cKuBIyP_7l"
      },
      "source": [
        "Reshape labels first to (n, 1) i.e. 1D to 2D then preprocess labels using one-hot encoding"
      ]
    },
    {
      "cell_type": "code",
      "metadata": {
        "id": "8vbEhwuz-Zii"
      },
      "source": [
        "y_train = y_train.reshape(60000, 1) \n",
        "y_test = y_test.reshape(10000, 1)\n",
        "# print(y_test.shape) \n",
        "y_train = to_categorical(y_train)\n",
        "y_test = to_categorical(y_test)"
      ],
      "execution_count": null,
      "outputs": []
    },
    {
      "cell_type": "code",
      "metadata": {
        "colab": {
          "base_uri": "https://localhost:8080/"
        },
        "id": "eE3Jedn__JVp",
        "outputId": "49e6d30f-c760-4f37-8aed-caed52e184ac"
      },
      "source": [
        "y_train[50000:50010, :] #Some y_train values before split that should be the same as the first 10 y_val values"
      ],
      "execution_count": null,
      "outputs": [
        {
          "output_type": "execute_result",
          "data": {
            "text/plain": [
              "array([[0., 0., 0., 0., 0., 0., 0., 0., 0., 1.],\n",
              "       [0., 0., 1., 0., 0., 0., 0., 0., 0., 0.],\n",
              "       [0., 1., 0., 0., 0., 0., 0., 0., 0., 0.],\n",
              "       [1., 0., 0., 0., 0., 0., 0., 0., 0., 0.],\n",
              "       [0., 0., 1., 0., 0., 0., 0., 0., 0., 0.],\n",
              "       [0., 0., 0., 0., 0., 0., 0., 1., 0., 0.],\n",
              "       [0., 0., 0., 0., 0., 0., 0., 0., 0., 1.],\n",
              "       [0., 0., 0., 1., 0., 0., 0., 0., 0., 0.],\n",
              "       [0., 1., 0., 0., 0., 0., 0., 0., 0., 0.],\n",
              "       [0., 1., 0., 0., 0., 0., 0., 0., 0., 0.]], dtype=float32)"
            ]
          },
          "metadata": {
            "tags": []
          },
          "execution_count": 11
        }
      ]
    },
    {
      "cell_type": "markdown",
      "metadata": {
        "id": "Kgc9u_WWQVNM"
      },
      "source": [
        "Split training sets into training and validation sets"
      ]
    },
    {
      "cell_type": "code",
      "metadata": {
        "colab": {
          "base_uri": "https://localhost:8080/"
        },
        "id": "TOMkED4KACF-",
        "outputId": "a171a192-bb5b-4fab-a702-2da120755798"
      },
      "source": [
        "training_set_size = 48000 #@param {type:\"slider\", min:0, max:60000, step:1000}\n",
        "x_val = x_train[training_set_size:, :]\n",
        "x_train = x_train[:training_set_size, :] \n",
        "y_val = y_train[training_set_size:, :] \n",
        "y_train = y_train[:training_set_size, :] \n",
        "\n",
        "print(x_val.shape) \n",
        "print(x_train.shape)\n",
        "print(y_val.shape) \n",
        "print(y_train.shape)"
      ],
      "execution_count": null,
      "outputs": [
        {
          "output_type": "stream",
          "text": [
            "(12000, 28, 28, 1)\n",
            "(48000, 28, 28, 1)\n",
            "(12000, 10)\n",
            "(48000, 10)\n"
          ],
          "name": "stdout"
        }
      ]
    },
    {
      "cell_type": "code",
      "metadata": {
        "colab": {
          "base_uri": "https://localhost:8080/"
        },
        "id": "3hybIuV2Fk-U",
        "outputId": "1e42f349-00e1-40cd-aea8-b3351e7061f8"
      },
      "source": [
        "y_val[:10, :] #Test y_val values after split"
      ],
      "execution_count": null,
      "outputs": [
        {
          "output_type": "execute_result",
          "data": {
            "text/plain": [
              "array([[0., 0., 0., 0., 0., 1., 0., 0., 0., 0.],\n",
              "       [0., 0., 0., 0., 0., 0., 0., 1., 0., 0.],\n",
              "       [1., 0., 0., 0., 0., 0., 0., 0., 0., 0.],\n",
              "       [0., 0., 0., 0., 0., 0., 1., 0., 0., 0.],\n",
              "       [0., 0., 0., 0., 0., 0., 0., 0., 1., 0.],\n",
              "       [0., 0., 0., 0., 0., 0., 0., 1., 0., 0.],\n",
              "       [0., 0., 0., 0., 0., 0., 0., 1., 0., 0.],\n",
              "       [0., 0., 0., 0., 1., 0., 0., 0., 0., 0.],\n",
              "       [0., 0., 0., 0., 0., 0., 0., 0., 1., 0.],\n",
              "       [0., 0., 1., 0., 0., 0., 0., 0., 0., 0.]], dtype=float32)"
            ]
          },
          "metadata": {
            "tags": []
          },
          "execution_count": 13
        }
      ]
    },
    {
      "cell_type": "markdown",
      "metadata": {
        "id": "JiAkX_eXfRtx"
      },
      "source": [
        "Data Augmentation"
      ]
    },
    {
      "cell_type": "code",
      "metadata": {
        "id": "5Kf4KHQ8dGyG"
      },
      "source": [
        "gen = tf.keras.preprocessing.image.ImageDataGenerator(rotation_range=8, width_shift_range=0.08, shear_range=0.3,\n",
        "                               height_shift_range=0.08, zoom_range=0.08)"
      ],
      "execution_count": null,
      "outputs": []
    },
    {
      "cell_type": "markdown",
      "metadata": {
        "id": "dSvbFdhrKG0W"
      },
      "source": [
        "# Defining the Model"
      ]
    },
    {
      "cell_type": "code",
      "metadata": {
        "id": "5Us4__dmKKmz"
      },
      "source": [
        "model = Sequential()\n",
        "model.add(InputLayer(input_shape = (28, 28, 1), name = 'conv2d_3_input'))\n",
        "model.add(Conv2D(64, (3, 3), activation = 'relu', input_shape = (28, 28, 1), name = 'conv2d_3'))\n",
        "model.add(MaxPooling2D(pool_size = (2, 2), name = 'max_pooling_2d_2'))\n",
        "model.add(Conv2D(64, (3, 3), activation = 'relu', name = 'conv2d_4'))\n",
        "model.add(MaxPooling2D(pool_size = (2, 2), name = 'max_pooling_2d_3'))\n",
        "\n",
        "model.add(Flatten(name = 'flatten'))\n",
        "model.add(Dense(256, activation = 'relu', name = 'dense'))\n",
        "model.add(Dense(10, activation = 'softmax', name = 'dense_1')) "
      ],
      "execution_count": null,
      "outputs": []
    },
    {
      "cell_type": "markdown",
      "metadata": {
        "id": "fLwYIj_WfWSL"
      },
      "source": [
        "Model Architecture"
      ]
    },
    {
      "cell_type": "code",
      "metadata": {
        "colab": {
          "base_uri": "https://localhost:8080/"
        },
        "id": "0Ae6NyoCfVfQ",
        "outputId": "492a8245-efaa-4d94-b2c8-11a1853d3075"
      },
      "source": [
        "model.summary()"
      ],
      "execution_count": null,
      "outputs": [
        {
          "output_type": "stream",
          "text": [
            "Model: \"sequential\"\n",
            "_________________________________________________________________\n",
            "Layer (type)                 Output Shape              Param #   \n",
            "=================================================================\n",
            "conv2d_3 (Conv2D)            (None, 26, 26, 64)        640       \n",
            "_________________________________________________________________\n",
            "max_pooling_2d_2 (MaxPooling (None, 13, 13, 64)        0         \n",
            "_________________________________________________________________\n",
            "conv2d_4 (Conv2D)            (None, 11, 11, 64)        36928     \n",
            "_________________________________________________________________\n",
            "max_pooling_2d_3 (MaxPooling (None, 5, 5, 64)          0         \n",
            "_________________________________________________________________\n",
            "flatten (Flatten)            (None, 1600)              0         \n",
            "_________________________________________________________________\n",
            "dense (Dense)                (None, 256)               409856    \n",
            "_________________________________________________________________\n",
            "dense_1 (Dense)              (None, 10)                2570      \n",
            "=================================================================\n",
            "Total params: 449,994\n",
            "Trainable params: 449,994\n",
            "Non-trainable params: 0\n",
            "_________________________________________________________________\n"
          ],
          "name": "stdout"
        }
      ]
    },
    {
      "cell_type": "code",
      "metadata": {
        "id": "0G01RbOqZEyu"
      },
      "source": [
        "model.compile(loss = keras.losses.categorical_crossentropy,\n",
        "              optimizer = keras.optimizers.Adam(),\n",
        "              metrics = ['accuracy'])"
      ],
      "execution_count": null,
      "outputs": []
    },
    {
      "cell_type": "markdown",
      "metadata": {
        "id": "l-pdw1yeeZYM"
      },
      "source": [
        "# Checkpoints"
      ]
    },
    {
      "cell_type": "code",
      "metadata": {
        "colab": {
          "base_uri": "https://localhost:8080/"
        },
        "id": "SkhbmGp8d-Ta",
        "outputId": "da12de91-0453-451b-b85a-4f596a1476e8"
      },
      "source": [
        "checkpoint_path = '/content/gdrive/My Drive/CNNs/custom/cp-{epoch:04d}.ckpt'\n",
        "checkpoint_dir = os.path.dirname(checkpoint_path)\n",
        "\n",
        "cp_callback = ModelCheckpoint(\n",
        "    filepath = checkpoint_path, \n",
        "    verbose = 1, \n",
        "    save_weights_only = True,\n",
        "    period = 1) "
      ],
      "execution_count": null,
      "outputs": [
        {
          "output_type": "stream",
          "text": [
            "WARNING:tensorflow:`period` argument is deprecated. Please use `save_freq` to specify the frequency in number of batches seen.\n"
          ],
          "name": "stdout"
        }
      ]
    },
    {
      "cell_type": "markdown",
      "metadata": {
        "id": "IT52AnuPfagb"
      },
      "source": [
        "For reloading"
      ]
    },
    {
      "cell_type": "code",
      "metadata": {
        "id": "Q_NthM0Od_df"
      },
      "source": [
        "# model.load_weights('/content/gdrive/My Drive/CNNs/custom/cp-0004.ckpt') "
      ],
      "execution_count": null,
      "outputs": []
    },
    {
      "cell_type": "markdown",
      "metadata": {
        "id": "xJgvMM0Qecqc"
      },
      "source": [
        "# Training"
      ]
    },
    {
      "cell_type": "code",
      "metadata": {
        "colab": {
          "base_uri": "https://localhost:8080/"
        },
        "id": "_VXO98qkdZLn",
        "outputId": "be38c9ab-cbb9-4c9c-e53e-fa10382ac39f"
      },
      "source": [
        "history=model.fit(gen.flow(x_train, y_train, BATCH_SIZE), \n",
        "                  steps_per_epoch = y_train.shape[0] // BATCH_SIZE, \n",
        "                  epochs = EPOCH_SIZE, \n",
        "                  validation_data = gen.flow(x_val, y_val, BATCH_SIZE),\n",
        "                  validation_steps = y_val.shape[0] // BATCH_SIZE,\n",
        "                  callbacks = [cp_callback]\n",
        "                    )"
      ],
      "execution_count": null,
      "outputs": [
        {
          "output_type": "stream",
          "text": [
            "Epoch 1/25\n",
            "375/375 [==============================] - 79s 208ms/step - loss: 0.6864 - accuracy: 0.7457 - val_loss: 0.5186 - val_accuracy: 0.8030\n",
            "\n",
            "Epoch 00001: saving model to /content/gdrive/My Drive/CNNs/custom/cp-0001.ckpt\n",
            "Epoch 2/25\n",
            "375/375 [==============================] - 78s 207ms/step - loss: 0.4832 - accuracy: 0.8180 - val_loss: 0.4459 - val_accuracy: 0.8339\n",
            "\n",
            "Epoch 00002: saving model to /content/gdrive/My Drive/CNNs/custom/cp-0002.ckpt\n",
            "Epoch 3/25\n",
            "375/375 [==============================] - ETA: 0s - loss: 0.4269 - accuracy: 0.8412\n",
            "Epoch 00003: saving model to /content/gdrive/My Drive/CNNs/custom/cp-0003.ckpt\n",
            "Epoch 4/25\n",
            "375/375 [==============================] - 77s 205ms/step - loss: 0.3885 - accuracy: 0.8531 - val_loss: 0.3775 - val_accuracy: 0.8569\n",
            "\n",
            "Epoch 00004: saving model to /content/gdrive/My Drive/CNNs/custom/cp-0004.ckpt\n",
            "Epoch 5/25\n",
            "375/375 [==============================] - 77s 206ms/step - loss: 0.3669 - accuracy: 0.8621 - val_loss: 0.3590 - val_accuracy: 0.8638\n",
            "\n",
            "Epoch 00005: saving model to /content/gdrive/My Drive/CNNs/custom/cp-0005.ckpt\n",
            "Epoch 6/25\n",
            "375/375 [==============================] - 77s 206ms/step - loss: 0.3459 - accuracy: 0.8697 - val_loss: 0.3557 - val_accuracy: 0.8687\n",
            "\n",
            "Epoch 00006: saving model to /content/gdrive/My Drive/CNNs/custom/cp-0006.ckpt\n",
            "Epoch 7/25\n",
            "375/375 [==============================] - 77s 205ms/step - loss: 0.3380 - accuracy: 0.8747 - val_loss: 0.3336 - val_accuracy: 0.8756\n",
            "\n",
            "Epoch 00007: saving model to /content/gdrive/My Drive/CNNs/custom/cp-0007.ckpt\n",
            "Epoch 8/25\n",
            "375/375 [==============================] - 77s 204ms/step - loss: 0.3187 - accuracy: 0.8801 - val_loss: 0.3260 - val_accuracy: 0.8794\n",
            "\n",
            "Epoch 00008: saving model to /content/gdrive/My Drive/CNNs/custom/cp-0008.ckpt\n",
            "Epoch 9/25\n",
            "375/375 [==============================] - 77s 205ms/step - loss: 0.3099 - accuracy: 0.8835 - val_loss: 0.3398 - val_accuracy: 0.8742\n",
            "\n",
            "Epoch 00009: saving model to /content/gdrive/My Drive/CNNs/custom/cp-0009.ckpt\n",
            "Epoch 10/25\n",
            "375/375 [==============================] - 77s 204ms/step - loss: 0.2952 - accuracy: 0.8898 - val_loss: 0.3052 - val_accuracy: 0.8869\n",
            "\n",
            "Epoch 00010: saving model to /content/gdrive/My Drive/CNNs/custom/cp-0010.ckpt\n",
            "Epoch 11/25\n",
            "375/375 [==============================] - 77s 205ms/step - loss: 0.2890 - accuracy: 0.8915 - val_loss: 0.3097 - val_accuracy: 0.8826\n",
            "\n",
            "Epoch 00011: saving model to /content/gdrive/My Drive/CNNs/custom/cp-0011.ckpt\n",
            "Epoch 12/25\n",
            "375/375 [==============================] - 77s 205ms/step - loss: 0.2805 - accuracy: 0.8960 - val_loss: 0.2926 - val_accuracy: 0.8909\n",
            "\n",
            "Epoch 00012: saving model to /content/gdrive/My Drive/CNNs/custom/cp-0012.ckpt\n",
            "Epoch 13/25\n",
            "375/375 [==============================] - 77s 205ms/step - loss: 0.2745 - accuracy: 0.8966 - val_loss: 0.3015 - val_accuracy: 0.8841\n",
            "\n",
            "Epoch 00013: saving model to /content/gdrive/My Drive/CNNs/custom/cp-0013.ckpt\n",
            "Epoch 14/25\n",
            "375/375 [==============================] - 77s 204ms/step - loss: 0.2679 - accuracy: 0.9009 - val_loss: 0.2960 - val_accuracy: 0.8905\n",
            "\n",
            "Epoch 00014: saving model to /content/gdrive/My Drive/CNNs/custom/cp-0014.ckpt\n",
            "Epoch 15/25\n",
            "375/375 [==============================] - 77s 204ms/step - loss: 0.2591 - accuracy: 0.9018 - val_loss: 0.2976 - val_accuracy: 0.8906\n",
            "\n",
            "Epoch 00015: saving model to /content/gdrive/My Drive/CNNs/custom/cp-0015.ckpt\n",
            "Epoch 16/25\n",
            "375/375 [==============================] - 77s 205ms/step - loss: 0.2554 - accuracy: 0.9044 - val_loss: 0.2884 - val_accuracy: 0.8920\n",
            "\n",
            "Epoch 00016: saving model to /content/gdrive/My Drive/CNNs/custom/cp-0016.ckpt\n",
            "Epoch 17/25\n",
            "375/375 [==============================] - 77s 205ms/step - loss: 0.2484 - accuracy: 0.9057 - val_loss: 0.2807 - val_accuracy: 0.8986\n",
            "\n",
            "Epoch 00017: saving model to /content/gdrive/My Drive/CNNs/custom/cp-0017.ckpt\n",
            "Epoch 18/25\n",
            "375/375 [==============================] - 77s 205ms/step - loss: 0.2447 - accuracy: 0.9078 - val_loss: 0.2917 - val_accuracy: 0.8910\n",
            "\n",
            "Epoch 00018: saving model to /content/gdrive/My Drive/CNNs/custom/cp-0018.ckpt\n",
            "Epoch 19/25\n",
            "375/375 [==============================] - 77s 204ms/step - loss: 0.2395 - accuracy: 0.9102 - val_loss: 0.2887 - val_accuracy: 0.8938\n",
            "\n",
            "Epoch 00019: saving model to /content/gdrive/My Drive/CNNs/custom/cp-0019.ckpt\n",
            "Epoch 20/25\n",
            "375/375 [==============================] - 77s 204ms/step - loss: 0.2350 - accuracy: 0.9116 - val_loss: 0.2781 - val_accuracy: 0.8984\n",
            "\n",
            "Epoch 00020: saving model to /content/gdrive/My Drive/CNNs/custom/cp-0020.ckpt\n",
            "Epoch 21/25\n",
            "375/375 [==============================] - 77s 205ms/step - loss: 0.2295 - accuracy: 0.9144 - val_loss: 0.2698 - val_accuracy: 0.9011\n",
            "\n",
            "Epoch 00021: saving model to /content/gdrive/My Drive/CNNs/custom/cp-0021.ckpt\n",
            "Epoch 22/25\n",
            "375/375 [==============================] - 77s 204ms/step - loss: 0.2246 - accuracy: 0.9166 - val_loss: 0.2659 - val_accuracy: 0.8994\n",
            "\n",
            "Epoch 00022: saving model to /content/gdrive/My Drive/CNNs/custom/cp-0022.ckpt\n",
            "Epoch 23/25\n",
            "375/375 [==============================] - 77s 204ms/step - loss: 0.2248 - accuracy: 0.9160 - val_loss: 0.2684 - val_accuracy: 0.9014\n",
            "\n",
            "Epoch 00023: saving model to /content/gdrive/My Drive/CNNs/custom/cp-0023.ckpt\n",
            "Epoch 24/25\n",
            "375/375 [==============================] - 77s 205ms/step - loss: 0.2219 - accuracy: 0.9169 - val_loss: 0.2995 - val_accuracy: 0.8871\n",
            "\n",
            "Epoch 00024: saving model to /content/gdrive/My Drive/CNNs/custom/cp-0024.ckpt\n",
            "Epoch 25/25\n",
            "375/375 [==============================] - 76s 204ms/step - loss: 0.2190 - accuracy: 0.9160 - val_loss: 0.2649 - val_accuracy: 0.9033\n",
            "\n",
            "Epoch 00025: saving model to /content/gdrive/My Drive/CNNs/custom/cp-0025.ckpt\n"
          ],
          "name": "stdout"
        }
      ]
    },
    {
      "cell_type": "markdown",
      "metadata": {
        "id": "WEF9z6lWFMJC"
      },
      "source": [
        "# Analaysis"
      ]
    },
    {
      "cell_type": "code",
      "metadata": {
        "colab": {
          "base_uri": "https://localhost:8080/"
        },
        "id": "83_Cb8i2UT5g",
        "outputId": "649eac4a-f41d-4e25-f7e6-8bad41326957"
      },
      "source": [
        "print(history.history.keys())"
      ],
      "execution_count": null,
      "outputs": [
        {
          "output_type": "stream",
          "text": [
            "dict_keys(['loss', 'accuracy', 'val_loss', 'val_accuracy'])\n"
          ],
          "name": "stdout"
        }
      ]
    },
    {
      "cell_type": "markdown",
      "metadata": {
        "id": "x6Fz8GSpfdgF"
      },
      "source": [
        "Plots"
      ]
    },
    {
      "cell_type": "code",
      "metadata": {
        "colab": {
          "base_uri": "https://localhost:8080/",
          "height": 545
        },
        "id": "DDNDhy3jequd",
        "outputId": "e64167a9-56e8-42dd-b12a-b6417bf60b50"
      },
      "source": [
        "acc = history.history['accuracy']\n",
        "val_acc = history.history['val_accuracy']\n",
        "loss = history.history['loss']\n",
        "val_loss = history.history['val_loss']\n",
        "epochs = range(1, len(acc) + 1)\n",
        "\n",
        "plt.title('Accuracy')\n",
        "plt.plot(epochs, acc, 'purple', label='Training Accuracy')\n",
        "plt.plot(epochs, val_acc, 'green', label = 'Validation Accuracy')\n",
        "plt.legend()\n",
        "\n",
        "plt.figure()\n",
        "plt.title('Loss')\n",
        "plt.plot(epochs, loss, 'purple', label = 'Training Loss')\n",
        "plt.plot(epochs, val_loss, 'green', label = 'Validation Loss')\n",
        "\n",
        "plt.legend()\n",
        "\n",
        "plt.show()"
      ],
      "execution_count": null,
      "outputs": [
        {
          "output_type": "display_data",
          "data": {
            "image/png": "[encoded data removed]",
            "text/plain": [
              "<Figure size 432x288 with 1 Axes>"
            ]
          },
          "metadata": {
            "tags": [],
            "needs_background": "light"
          }
        },
        {
          "output_type": "display_data",
          "data": {
            "image/png": "[encoded data removed]",
            "text/plain": [
              "<Figure size 432x288 with 1 Axes>"
            ]
          },
          "metadata": {
            "tags": [],
            "needs_background": "light"
          }
        }
      ]
    },
    {
      "cell_type": "markdown",
      "metadata": {
        "id": "AQpdWGMgferx"
      },
      "source": [
        "Running on test sets"
      ]
    },
    {
      "cell_type": "code",
      "metadata": {
        "colab": {
          "base_uri": "https://localhost:8080/"
        },
        "id": "Ld53Wlwae7E1",
        "outputId": "fe69f38a-58a4-4cea-e73d-973e600e5f45"
      },
      "source": [
        "score = model.evaluate(x_test, y_test, verbose = 0)\n",
        "print('Loss on running test : ', score[0])\n",
        "print('Accuracy on running test : ', score[1]) "
      ],
      "execution_count": null,
      "outputs": [
        {
          "output_type": "stream",
          "text": [
            "Loss on running test :  0.2501012086868286\n",
            "Accuracy on running test :  0.9158999919891357\n"
          ],
          "name": "stdout"
        }
      ]
    },
    {
      "cell_type": "code",
      "metadata": {
        "id": "lTcmNrI6Hlkz"
      },
      "source": [
        "# x_train.shape[0], BATCH_SIZE, EPOCH_SIZE -> Test set accuracy \n",
        "# 50000, 128, 10 -> 0.899\n",
        "# 50000, 64, 10 -> 0.899\n",
        "# 50000, 64, 25 -> 0.915 \n",
        "# 50000, 128, 25 -> 0.916"
      ],
      "execution_count": null,
      "outputs": []
    }
  ]
}