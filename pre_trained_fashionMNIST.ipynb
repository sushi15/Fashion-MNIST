{
  "nbformat": 4,
  "nbformat_minor": 0,
  "metadata": {
    "accelerator": "GPU",
    "colab": {
      "name": "pre-trained - fashionMNIST.ipynb",
      "provenance": [],
      "collapsed_sections": [],
      "authorship_tag": "ABX9TyN4on8jNDnzQn/KTx+a66ym",
      "include_colab_link": true
    },
    "kernelspec": {
      "display_name": "Python 3",
      "name": "python3"
    },
    "language_info": {
      "name": "python"
    }
  },
  "cells": [
    {
      "cell_type": "markdown",
      "metadata": {
        "id": "view-in-github",
        "colab_type": "text"
      },
      "source": [
        "<a href=\"https://colab.research.google.com/github/sushi15/Fashion-MNIST/blob/main/pre_trained_fashionMNIST.ipynb\" target=\"_parent\"><img src=\"https://colab.research.google.com/assets/colab-badge.svg\" alt=\"Open In Colab\"/></a>"
      ]
    },
    {
      "cell_type": "markdown",
      "metadata": {
        "id": "QMV07rDclfPh"
      },
      "source": [
        "# Imports "
      ]
    },
    {
      "cell_type": "code",
      "metadata": {
        "colab": {
          "base_uri": "https://localhost:8080/"
        },
        "id": "AfoD1G1IaWtj",
        "outputId": "9af03f12-bbc1-4717-ddc6-8206b7ed6521"
      },
      "source": [
        "import itertools\n",
        "import os\n",
        "\n",
        "import matplotlib.pylab as plt \n",
        "%matplotlib inline \n",
        "from matplotlib import pyplot\n",
        "import numpy as np \n",
        "\n",
        "import tensorflow as tf\n",
        "import tensorflow_hub as hub \n",
        "from tensorflow.keras.utils import to_categorical \n",
        "from tensorflow.keras.callbacks import ModelCheckpoint \n",
        "\n",
        "import keras \n",
        "from keras.applications.vgg16 import preprocess_input \n",
        "from keras.preprocessing.image import img_to_array, array_to_img \n",
        "from keras.layers import Dense, Dropout, Flatten\n",
        "from keras.models import Model\n",
        "from keras import models\n",
        "from keras import layers\n",
        "from keras import optimizers\n",
        "\n",
        "import random\n",
        "\n",
        "from google.colab import drive\n",
        "drive.mount('/content/gdrive')"
      ],
      "execution_count": null,
      "outputs": [
        {
          "output_type": "stream",
          "text": [
            "Drive already mounted at /content/gdrive; to attempt to forcibly remount, call drive.mount(\"/content/gdrive\", force_remount=True).\n"
          ],
          "name": "stdout"
        }
      ]
    },
    {
      "cell_type": "markdown",
      "metadata": {
        "id": "X2Fy83HpljoA"
      },
      "source": [
        "# Tensorflow Dataset Selection"
      ]
    },
    {
      "cell_type": "code",
      "metadata": {
        "colab": {
          "base_uri": "https://localhost:8080/"
        },
        "id": "BcADY3R-aefd",
        "outputId": "71b82760-0ba7-4be5-e64e-db622a2a4d2a"
      },
      "source": [
        "hw = 70\n",
        "prmodel = tf.keras.applications.VGG16(\n",
        "    include_top = False,\n",
        "    weights = \"imagenet\",\n",
        "    input_shape = (hw, hw, 3), \n",
        "    classes = 10,\n",
        ")\n",
        "\n",
        "prmodel.summary()"
      ],
      "execution_count": null,
      "outputs": [
        {
          "output_type": "stream",
          "text": [
            "Model: \"vgg16\"\n",
            "_________________________________________________________________\n",
            "Layer (type)                 Output Shape              Param #   \n",
            "=================================================================\n",
            "input_1 (InputLayer)         [(None, 70, 70, 3)]       0         \n",
            "_________________________________________________________________\n",
            "block1_conv1 (Conv2D)        (None, 70, 70, 64)        1792      \n",
            "_________________________________________________________________\n",
            "block1_conv2 (Conv2D)        (None, 70, 70, 64)        36928     \n",
            "_________________________________________________________________\n",
            "block1_pool (MaxPooling2D)   (None, 35, 35, 64)        0         \n",
            "_________________________________________________________________\n",
            "block2_conv1 (Conv2D)        (None, 35, 35, 128)       73856     \n",
            "_________________________________________________________________\n",
            "block2_conv2 (Conv2D)        (None, 35, 35, 128)       147584    \n",
            "_________________________________________________________________\n",
            "block2_pool (MaxPooling2D)   (None, 17, 17, 128)       0         \n",
            "_________________________________________________________________\n",
            "block3_conv1 (Conv2D)        (None, 17, 17, 256)       295168    \n",
            "_________________________________________________________________\n",
            "block3_conv2 (Conv2D)        (None, 17, 17, 256)       590080    \n",
            "_________________________________________________________________\n",
            "block3_conv3 (Conv2D)        (None, 17, 17, 256)       590080    \n",
            "_________________________________________________________________\n",
            "block3_pool (MaxPooling2D)   (None, 8, 8, 256)         0         \n",
            "_________________________________________________________________\n",
            "block4_conv1 (Conv2D)        (None, 8, 8, 512)         1180160   \n",
            "_________________________________________________________________\n",
            "block4_conv2 (Conv2D)        (None, 8, 8, 512)         2359808   \n",
            "_________________________________________________________________\n",
            "block4_conv3 (Conv2D)        (None, 8, 8, 512)         2359808   \n",
            "_________________________________________________________________\n",
            "block4_pool (MaxPooling2D)   (None, 4, 4, 512)         0         \n",
            "_________________________________________________________________\n",
            "block5_conv1 (Conv2D)        (None, 4, 4, 512)         2359808   \n",
            "_________________________________________________________________\n",
            "block5_conv2 (Conv2D)        (None, 4, 4, 512)         2359808   \n",
            "_________________________________________________________________\n",
            "block5_conv3 (Conv2D)        (None, 4, 4, 512)         2359808   \n",
            "_________________________________________________________________\n",
            "block5_pool (MaxPooling2D)   (None, 2, 2, 512)         0         \n",
            "=================================================================\n",
            "Total params: 14,714,688\n",
            "Trainable params: 14,714,688\n",
            "Non-trainable params: 0\n",
            "_________________________________________________________________\n"
          ],
          "name": "stdout"
        }
      ]
    },
    {
      "cell_type": "code",
      "metadata": {
        "id": "JqJRoD9TOjsn"
      },
      "source": [
        "BATCH_SIZE = 256 #@param {type:\"slider\", min:0, max:256, step:2}"
      ],
      "execution_count": null,
      "outputs": []
    },
    {
      "cell_type": "code",
      "metadata": {
        "id": "g8rrErSIOk0a"
      },
      "source": [
        "EPOCH_SIZE = 47 #@param {type:\"integer\"}"
      ],
      "execution_count": null,
      "outputs": []
    },
    {
      "cell_type": "markdown",
      "metadata": {
        "id": "0GE3CyvNlvfH"
      },
      "source": [
        "# Load Fashion MNIST"
      ]
    },
    {
      "cell_type": "code",
      "metadata": {
        "id": "6AckScbQbsrh"
      },
      "source": [
        "(x_train, y_train), (x_test, y_test) = tf.keras.datasets.fashion_mnist.load_data()"
      ],
      "execution_count": null,
      "outputs": []
    },
    {
      "cell_type": "code",
      "metadata": {
        "id": "ddDCTl2G82kg"
      },
      "source": [
        "assert x_train.shape == (60000, 28, 28)\n",
        "assert x_test.shape == (10000, 28, 28)\n",
        "assert y_train.shape == (60000,)\n",
        "assert y_test.shape == (10000,)"
      ],
      "execution_count": null,
      "outputs": []
    },
    {
      "cell_type": "code",
      "metadata": {
        "colab": {
          "base_uri": "https://localhost:8080/",
          "height": 283
        },
        "id": "3hVMWMurQ215",
        "outputId": "2f37bf82-1efb-491a-d9c5-7698d72b27a3"
      },
      "source": [
        "# Test - Not required \n",
        "plt.imshow(x_train[1]) \n",
        "print(y_train[1])"
      ],
      "execution_count": null,
      "outputs": [
        {
          "output_type": "stream",
          "text": [
            "0\n"
          ],
          "name": "stdout"
        },
        {
          "output_type": "display_data",
          "data": {
            "image/png": "[encoded data removed]",
            "text/plain": [
              "<Figure size 432x288 with 1 Axes>"
            ]
          },
          "metadata": {
            "tags": [],
            "needs_background": "light"
          }
        }
      ]
    },
    {
      "cell_type": "code",
      "metadata": {
        "colab": {
          "base_uri": "https://localhost:8080/",
          "height": 268
        },
        "id": "8DWAgDJlRAYT",
        "outputId": "2c3178a0-3854-4c11-c08e-6f46f17edd9d"
      },
      "source": [
        "# Test - Not required \n",
        "for i in range(9):\n",
        "\tpyplot.subplot(330 + 1 + i)\n",
        "\tpyplot.imshow(x_train[i], cmap=pyplot.get_cmap('gray'))\n",
        "pyplot.show()"
      ],
      "execution_count": null,
      "outputs": [
        {
          "output_type": "display_data",
          "data": {
            "image/png": "[encoded data removed]",
            "text/plain": [
              "<Figure size 432x288 with 9 Axes>"
            ]
          },
          "metadata": {
            "tags": [],
            "needs_background": "light"
          }
        }
      ]
    },
    {
      "cell_type": "markdown",
      "metadata": {
        "id": "K6ut9Tj3P2L9"
      },
      "source": [
        "# Data Preprocessing"
      ]
    },
    {
      "cell_type": "markdown",
      "metadata": {
        "id": "sQC_j2ryP6pd"
      },
      "source": [
        "Reshaping features, images required to be in RGB with 3 channels"
      ]
    },
    {
      "cell_type": "code",
      "metadata": {
        "colab": {
          "base_uri": "https://localhost:8080/"
        },
        "id": "FUmZgLs0N3p2",
        "outputId": "4e5831ab-ab3b-4062-e0e8-d0eb9fc15cc3"
      },
      "source": [
        "x_train = np.dstack([x_train] * 3)\n",
        "x_test = np.dstack([x_test] * 3)\n",
        "x_train = x_train.reshape(-1, 28,28,3)\n",
        "x_test= x_test.reshape (-1,28,28,3)\n",
        "\n",
        "# x_train = x_train.reshape((x_train.shape[0], 28, 28, 1))\n",
        "# x_test = x_test.reshape((x_test.shape[0], 28, 28, 1)) \n",
        "print(x_train.shape) \n",
        "print(x_test.shape)"
      ],
      "execution_count": null,
      "outputs": [
        {
          "output_type": "stream",
          "text": [
            "(60000, 28, 28, 3)\n",
            "(10000, 28, 28, 3)\n"
          ],
          "name": "stdout"
        }
      ]
    },
    {
      "cell_type": "markdown",
      "metadata": {
        "id": "ih28lKXi22pz"
      },
      "source": [
        "Resize images as minimum height and width should be 32/48 for VGG16/VGG19 respectively"
      ]
    },
    {
      "cell_type": "code",
      "metadata": {
        "colab": {
          "base_uri": "https://localhost:8080/"
        },
        "id": "t84fbHb9WZso",
        "outputId": "0d09fbba-6ee7-42c3-df37-f289deac3307"
      },
      "source": [
        "x_train = np.asarray([img_to_array(array_to_img(im, scale = False).resize((hw, hw))) for im in x_train])\n",
        "x_test = np.asarray([img_to_array(array_to_img(im, scale = False).resize((hw, hw))) for im in x_test]) \n",
        "\n",
        "# Setting hw to >70 caused Colab to crash \n",
        "# Greater height/width value preferred \n",
        "\n",
        "print(x_train.shape) \n",
        "print(x_test.shape)"
      ],
      "execution_count": null,
      "outputs": [
        {
          "output_type": "stream",
          "text": [
            "(60000, 70, 70, 3)\n",
            "(10000, 70, 70, 3)\n"
          ],
          "name": "stdout"
        }
      ]
    },
    {
      "cell_type": "markdown",
      "metadata": {
        "id": "SZdFZlgt3KIs"
      },
      "source": [
        "Rescale values to range [0, 1]"
      ]
    },
    {
      "cell_type": "code",
      "metadata": {
        "id": "gH59jHauVQvK"
      },
      "source": [
        "x_train = x_train.astype('float32')\n",
        "x_test = x_test.astype('float32')\n",
        "\n",
        "x_train = x_train / 255.0\n",
        "x_test = x_test / 255.0"
      ],
      "execution_count": null,
      "outputs": []
    },
    {
      "cell_type": "markdown",
      "metadata": {
        "id": "O8cKuBIyP_7l"
      },
      "source": [
        "Reshape labels first to (n, 1) i.e. 1D to 2D then preprocess labels using one-hot encoding"
      ]
    },
    {
      "cell_type": "code",
      "metadata": {
        "id": "8vbEhwuz-Zii"
      },
      "source": [
        "y_train = y_train.reshape(60000, 1) \n",
        "y_test = y_test.reshape(10000, 1)\n",
        "# print(y_test.shape) \n",
        "y_train = to_categorical(y_train)\n",
        "y_test = to_categorical(y_test)"
      ],
      "execution_count": null,
      "outputs": []
    },
    {
      "cell_type": "code",
      "metadata": {
        "colab": {
          "base_uri": "https://localhost:8080/"
        },
        "id": "eE3Jedn__JVp",
        "outputId": "b2353bc1-9097-4b92-8f41-64e4cea9f812"
      },
      "source": [
        "# Test - Not required \n",
        "y_train[50000:50010, :] # Some y_train values before split that should be the same as the first 10 y_val values"
      ],
      "execution_count": null,
      "outputs": [
        {
          "output_type": "execute_result",
          "data": {
            "text/plain": [
              "array([[0., 0., 0., 0., 0., 0., 0., 0., 0., 1.],\n",
              "       [0., 0., 1., 0., 0., 0., 0., 0., 0., 0.],\n",
              "       [0., 1., 0., 0., 0., 0., 0., 0., 0., 0.],\n",
              "       [1., 0., 0., 0., 0., 0., 0., 0., 0., 0.],\n",
              "       [0., 0., 1., 0., 0., 0., 0., 0., 0., 0.],\n",
              "       [0., 0., 0., 0., 0., 0., 0., 1., 0., 0.],\n",
              "       [0., 0., 0., 0., 0., 0., 0., 0., 0., 1.],\n",
              "       [0., 0., 0., 1., 0., 0., 0., 0., 0., 0.],\n",
              "       [0., 1., 0., 0., 0., 0., 0., 0., 0., 0.],\n",
              "       [0., 1., 0., 0., 0., 0., 0., 0., 0., 0.]], dtype=float32)"
            ]
          },
          "metadata": {
            "tags": []
          },
          "execution_count": 13
        }
      ]
    },
    {
      "cell_type": "markdown",
      "metadata": {
        "id": "Kgc9u_WWQVNM"
      },
      "source": [
        "Split training sets into training and validation sets"
      ]
    },
    {
      "cell_type": "code",
      "metadata": {
        "colab": {
          "base_uri": "https://localhost:8080/"
        },
        "id": "TOMkED4KACF-",
        "outputId": "84dde841-2151-4c7e-9718-e22084010a3d"
      },
      "source": [
        "training_set_size = 48000 #@param {type:\"slider\", min:0, max:60000, step:1000}\n",
        "x_val = x_train[training_set_size:, :]\n",
        "x_train = x_train[:training_set_size, :] \n",
        "y_val = y_train[training_set_size:, :] \n",
        "y_train = y_train[:training_set_size, :] \n",
        "\n",
        "print(x_val.shape) \n",
        "print(x_train.shape)\n",
        "print(y_val.shape) \n",
        "print(y_train.shape)"
      ],
      "execution_count": null,
      "outputs": [
        {
          "output_type": "stream",
          "text": [
            "(12000, 70, 70, 3)\n",
            "(48000, 70, 70, 3)\n",
            "(12000, 10)\n",
            "(48000, 10)\n"
          ],
          "name": "stdout"
        }
      ]
    },
    {
      "cell_type": "code",
      "metadata": {
        "colab": {
          "base_uri": "https://localhost:8080/"
        },
        "id": "3hybIuV2Fk-U",
        "outputId": "7217135e-a5da-4454-c283-d1455d9be483"
      },
      "source": [
        "# Test - Not required \n",
        "y_val[:10, :] #Test y_val values after split"
      ],
      "execution_count": null,
      "outputs": [
        {
          "output_type": "execute_result",
          "data": {
            "text/plain": [
              "array([[0., 0., 0., 0., 0., 1., 0., 0., 0., 0.],\n",
              "       [0., 0., 0., 0., 0., 0., 0., 1., 0., 0.],\n",
              "       [1., 0., 0., 0., 0., 0., 0., 0., 0., 0.],\n",
              "       [0., 0., 0., 0., 0., 0., 1., 0., 0., 0.],\n",
              "       [0., 0., 0., 0., 0., 0., 0., 0., 1., 0.],\n",
              "       [0., 0., 0., 0., 0., 0., 0., 1., 0., 0.],\n",
              "       [0., 0., 0., 0., 0., 0., 0., 1., 0., 0.],\n",
              "       [0., 0., 0., 0., 1., 0., 0., 0., 0., 0.],\n",
              "       [0., 0., 0., 0., 0., 0., 0., 0., 1., 0.],\n",
              "       [0., 0., 1., 0., 0., 0., 0., 0., 0., 0.]], dtype=float32)"
            ]
          },
          "metadata": {
            "tags": []
          },
          "execution_count": 15
        }
      ]
    },
    {
      "cell_type": "markdown",
      "metadata": {
        "id": "T50zjW3WDktJ"
      },
      "source": [
        "Augmentation"
      ]
    },
    {
      "cell_type": "code",
      "metadata": {
        "id": "uqHCCH___beI"
      },
      "source": [
        "gen = tf.keras.preprocessing.image.ImageDataGenerator(rotation_range=8, width_shift_range=0.08, shear_range=0.3,\n",
        "                               height_shift_range=0.08, zoom_range=0.08)"
      ],
      "execution_count": null,
      "outputs": []
    },
    {
      "cell_type": "code",
      "metadata": {
        "id": "4Lx74yobTIcx"
      },
      "source": [
        "x_train = preprocess_input(x_train)\n",
        "x_val = preprocess_input(x_val)\n",
        "x_test = preprocess_input(x_test)"
      ],
      "execution_count": null,
      "outputs": []
    },
    {
      "cell_type": "markdown",
      "metadata": {
        "id": "V44WFzGiBHy8"
      },
      "source": [
        "# Feature extraction using the pretrained model 'prmodel' with predefined batch size"
      ]
    },
    {
      "cell_type": "code",
      "metadata": {
        "colab": {
          "base_uri": "https://localhost:8080/"
        },
        "id": "XzF3frRUhUJG",
        "outputId": "3b7c976b-cb2d-4b82-c1e7-5765e6ef7bb0"
      },
      "source": [
        "f_train = prmodel.predict(np.array(x_train), batch_size = BATCH_SIZE, verbose = 1)\n",
        "f_val = prmodel.predict(np.array(x_val), batch_size = BATCH_SIZE, verbose = 1) "
      ],
      "execution_count": null,
      "outputs": [
        {
          "output_type": "stream",
          "text": [
            "188/188 [==============================] - 56s 114ms/step\n",
            "47/47 [==============================] - 9s 202ms/step\n"
          ],
          "name": "stdout"
        }
      ]
    },
    {
      "cell_type": "code",
      "metadata": {
        "id": "CgcqqAKzhUW9"
      },
      "source": [
        "np.savez(\"f_train\", f_train, y_train)\n",
        "np.savez(\"f_val\", f_val, y_val) "
      ],
      "execution_count": null,
      "outputs": []
    },
    {
      "cell_type": "code",
      "metadata": {
        "id": "p6V5J__Ezgd-"
      },
      "source": [
        "size = f_train.shape[1] * f_train.shape[2] * f_train.shape[3] \n",
        "f_train = np.reshape(f_train, (f_train.shape[0], size))\n",
        "f_val = np.reshape(f_val, (f_val.shape[0], size)) "
      ],
      "execution_count": null,
      "outputs": []
    },
    {
      "cell_type": "markdown",
      "metadata": {
        "id": "rUSBhaMoBQ9U"
      },
      "source": [
        "# Defining the last layers of the model that go above the pretrained model"
      ]
    },
    {
      "cell_type": "code",
      "metadata": {
        "id": "gvvfX1RlzgvN"
      },
      "source": [
        "model = models.Sequential()\n",
        "model.add(layers.Dense(512, activation = 'relu', input_dim = size))\n",
        "model.add(layers.Dropout(0.3)) \n",
        "# model.add(layers.Flatten())\n",
        "# model.add(layers.Dense(256, activation = 'relu'))\n",
        "model.add(layers.Dense(10, activation = \"softmax\"))"
      ],
      "execution_count": null,
      "outputs": []
    },
    {
      "cell_type": "code",
      "metadata": {
        "id": "gfN8T5qkBh4k"
      },
      "source": [
        "model.compile(loss = keras.losses.categorical_crossentropy,\n",
        "              optimizer = keras.optimizers.Adam(),\n",
        "              metrics = ['accuracy'])"
      ],
      "execution_count": null,
      "outputs": []
    },
    {
      "cell_type": "markdown",
      "metadata": {
        "id": "V66KArXBCzN0"
      },
      "source": [
        "# Checkpoints"
      ]
    },
    {
      "cell_type": "code",
      "metadata": {
        "colab": {
          "base_uri": "https://localhost:8080/"
        },
        "id": "b-xPaY1ZB4aN",
        "outputId": "afcaaf4d-dccf-4007-878a-a9a2539275b7"
      },
      "source": [
        "checkpoint_path = '/content/gdrive/My Drive/CNNs/pretrained/cp-{epoch:04d}.ckpt'\n",
        "checkpoint_dir = os.path.dirname(checkpoint_path)\n",
        "\n",
        "cp_callback = ModelCheckpoint(\n",
        "    filepath = checkpoint_path, \n",
        "    verbose = 1, \n",
        "    save_weights_only = True,\n",
        "    period = 1)"
      ],
      "execution_count": null,
      "outputs": [
        {
          "output_type": "stream",
          "text": [
            "WARNING:tensorflow:`period` argument is deprecated. Please use `save_freq` to specify the frequency in number of batches seen.\n"
          ],
          "name": "stdout"
        }
      ]
    },
    {
      "cell_type": "markdown",
      "metadata": {
        "id": "ezK11vLVCxT5"
      },
      "source": [
        "Reloading weights"
      ]
    },
    {
      "cell_type": "code",
      "metadata": {
        "id": "z0OIKjb6B-Ar"
      },
      "source": [
        "# model.load_weights('/content/gdrive/My Drive/CNNs/pretrained/cp-0024.ckpt') "
      ],
      "execution_count": null,
      "outputs": []
    },
    {
      "cell_type": "markdown",
      "metadata": {
        "id": "a_nS-t4bC_80"
      },
      "source": [
        "# Training"
      ]
    },
    {
      "cell_type": "code",
      "metadata": {
        "colab": {
          "base_uri": "https://localhost:8080/"
        },
        "id": "5y5qfE-OC8Ql",
        "outputId": "8254ce1a-a99e-45d6-84be-012ec3e01619"
      },
      "source": [
        "history = model.fit(f_train, \n",
        "                    y_train, \n",
        "                    # steps_per_epoch = y_train.shape[0] // BATCH_SIZE, \n",
        "                    batch_size = BATCH_SIZE, \n",
        "                    epochs = EPOCH_SIZE, \n",
        "                    verbose = 1, \n",
        "                    validation_data = (f_val, y_val), \n",
        "                    callbacks=[cp_callback] \n",
        "                    ) "
      ],
      "execution_count": null,
      "outputs": [
        {
          "output_type": "stream",
          "text": [
            "Epoch 1/47\n",
            "188/188 [==============================] - 13s 6ms/step - loss: 2.9653 - accuracy: 0.2117 - val_loss: 1.5580 - val_accuracy: 0.4530\n",
            "\n",
            "Epoch 00001: saving model to /content/gdrive/My Drive/CNNs/pretrained/cp-0001.ckpt\n",
            "Epoch 2/47\n",
            "188/188 [==============================] - 1s 5ms/step - loss: 1.5342 - accuracy: 0.4442 - val_loss: 1.2767 - val_accuracy: 0.5547\n",
            "\n",
            "Epoch 00002: saving model to /content/gdrive/My Drive/CNNs/pretrained/cp-0002.ckpt\n",
            "Epoch 3/47\n",
            "188/188 [==============================] - 1s 5ms/step - loss: 1.2982 - accuracy: 0.5331 - val_loss: 1.1674 - val_accuracy: 0.6079\n",
            "\n",
            "Epoch 00003: saving model to /content/gdrive/My Drive/CNNs/pretrained/cp-0003.ckpt\n",
            "Epoch 4/47\n",
            "188/188 [==============================] - 1s 5ms/step - loss: 1.1870 - accuracy: 0.5698 - val_loss: 1.1092 - val_accuracy: 0.5915\n",
            "\n",
            "Epoch 00004: saving model to /content/gdrive/My Drive/CNNs/pretrained/cp-0004.ckpt\n",
            "Epoch 5/47\n",
            "188/188 [==============================] - 1s 5ms/step - loss: 1.1137 - accuracy: 0.5938 - val_loss: 1.0047 - val_accuracy: 0.6271\n",
            "\n",
            "Epoch 00005: saving model to /content/gdrive/My Drive/CNNs/pretrained/cp-0005.ckpt\n",
            "Epoch 6/47\n",
            "188/188 [==============================] - 1s 5ms/step - loss: 1.0530 - accuracy: 0.6153 - val_loss: 0.9582 - val_accuracy: 0.6606\n",
            "\n",
            "Epoch 00006: saving model to /content/gdrive/My Drive/CNNs/pretrained/cp-0006.ckpt\n",
            "Epoch 7/47\n",
            "188/188 [==============================] - 1s 5ms/step - loss: 1.0121 - accuracy: 0.6303 - val_loss: 0.9599 - val_accuracy: 0.6603\n",
            "\n",
            "Epoch 00007: saving model to /content/gdrive/My Drive/CNNs/pretrained/cp-0007.ckpt\n",
            "Epoch 8/47\n",
            "188/188 [==============================] - 1s 5ms/step - loss: 0.9833 - accuracy: 0.6365 - val_loss: 0.9008 - val_accuracy: 0.6799\n",
            "\n",
            "Epoch 00008: saving model to /content/gdrive/My Drive/CNNs/pretrained/cp-0008.ckpt\n",
            "Epoch 9/47\n",
            "188/188 [==============================] - 1s 5ms/step - loss: 0.9643 - accuracy: 0.6465 - val_loss: 0.9217 - val_accuracy: 0.6572\n",
            "\n",
            "Epoch 00009: saving model to /content/gdrive/My Drive/CNNs/pretrained/cp-0009.ckpt\n",
            "Epoch 10/47\n",
            "188/188 [==============================] - 1s 5ms/step - loss: 0.9557 - accuracy: 0.6512 - val_loss: 0.8749 - val_accuracy: 0.6883\n",
            "\n",
            "Epoch 00010: saving model to /content/gdrive/My Drive/CNNs/pretrained/cp-0010.ckpt\n",
            "Epoch 11/47\n",
            "188/188 [==============================] - 1s 5ms/step - loss: 0.9302 - accuracy: 0.6542 - val_loss: 0.8909 - val_accuracy: 0.6717\n",
            "\n",
            "Epoch 00011: saving model to /content/gdrive/My Drive/CNNs/pretrained/cp-0011.ckpt\n",
            "Epoch 12/47\n",
            "188/188 [==============================] - 1s 5ms/step - loss: 0.9221 - accuracy: 0.6591 - val_loss: 0.9013 - val_accuracy: 0.6672\n",
            "\n",
            "Epoch 00012: saving model to /content/gdrive/My Drive/CNNs/pretrained/cp-0012.ckpt\n",
            "Epoch 13/47\n",
            "188/188 [==============================] - 1s 5ms/step - loss: 0.9241 - accuracy: 0.6588 - val_loss: 0.8279 - val_accuracy: 0.7030\n",
            "\n",
            "Epoch 00013: saving model to /content/gdrive/My Drive/CNNs/pretrained/cp-0013.ckpt\n",
            "Epoch 14/47\n",
            "188/188 [==============================] - 1s 5ms/step - loss: 0.9092 - accuracy: 0.6616 - val_loss: 0.8458 - val_accuracy: 0.6981\n",
            "\n",
            "Epoch 00014: saving model to /content/gdrive/My Drive/CNNs/pretrained/cp-0014.ckpt\n",
            "Epoch 15/47\n",
            "188/188 [==============================] - 1s 5ms/step - loss: 0.9032 - accuracy: 0.6679 - val_loss: 0.8275 - val_accuracy: 0.7018\n",
            "\n",
            "Epoch 00015: saving model to /content/gdrive/My Drive/CNNs/pretrained/cp-0015.ckpt\n",
            "Epoch 16/47\n",
            "188/188 [==============================] - 1s 5ms/step - loss: 0.8894 - accuracy: 0.6727 - val_loss: 0.8248 - val_accuracy: 0.6977\n",
            "\n",
            "Epoch 00016: saving model to /content/gdrive/My Drive/CNNs/pretrained/cp-0016.ckpt\n",
            "Epoch 17/47\n",
            "188/188 [==============================] - 1s 5ms/step - loss: 0.8765 - accuracy: 0.6755 - val_loss: 0.8362 - val_accuracy: 0.6956\n",
            "\n",
            "Epoch 00017: saving model to /content/gdrive/My Drive/CNNs/pretrained/cp-0017.ckpt\n",
            "Epoch 18/47\n",
            "188/188 [==============================] - 1s 5ms/step - loss: 0.8803 - accuracy: 0.6756 - val_loss: 0.8785 - val_accuracy: 0.6683\n",
            "\n",
            "Epoch 00018: saving model to /content/gdrive/My Drive/CNNs/pretrained/cp-0018.ckpt\n",
            "Epoch 19/47\n",
            "188/188 [==============================] - 1s 6ms/step - loss: 0.8842 - accuracy: 0.6748 - val_loss: 0.8460 - val_accuracy: 0.6914\n",
            "\n",
            "Epoch 00019: saving model to /content/gdrive/My Drive/CNNs/pretrained/cp-0019.ckpt\n",
            "Epoch 20/47\n",
            "188/188 [==============================] - 1s 5ms/step - loss: 0.8796 - accuracy: 0.6753 - val_loss: 0.8212 - val_accuracy: 0.7046\n",
            "\n",
            "Epoch 00020: saving model to /content/gdrive/My Drive/CNNs/pretrained/cp-0020.ckpt\n",
            "Epoch 21/47\n",
            "188/188 [==============================] - 1s 6ms/step - loss: 0.8767 - accuracy: 0.6816 - val_loss: 0.8078 - val_accuracy: 0.7053\n",
            "\n",
            "Epoch 00021: saving model to /content/gdrive/My Drive/CNNs/pretrained/cp-0021.ckpt\n",
            "Epoch 22/47\n",
            "188/188 [==============================] - 1s 5ms/step - loss: 0.8695 - accuracy: 0.6813 - val_loss: 0.7936 - val_accuracy: 0.7032\n",
            "\n",
            "Epoch 00022: saving model to /content/gdrive/My Drive/CNNs/pretrained/cp-0022.ckpt\n",
            "Epoch 23/47\n",
            "188/188 [==============================] - 1s 6ms/step - loss: 0.8661 - accuracy: 0.6829 - val_loss: 0.8421 - val_accuracy: 0.6892\n",
            "\n",
            "Epoch 00023: saving model to /content/gdrive/My Drive/CNNs/pretrained/cp-0023.ckpt\n",
            "Epoch 24/47\n",
            "188/188 [==============================] - 1s 5ms/step - loss: 0.8790 - accuracy: 0.6776 - val_loss: 0.8182 - val_accuracy: 0.7083\n",
            "\n",
            "Epoch 00024: saving model to /content/gdrive/My Drive/CNNs/pretrained/cp-0024.ckpt\n",
            "Epoch 25/47\n",
            "188/188 [==============================] - 1s 5ms/step - loss: 0.8715 - accuracy: 0.6801 - val_loss: 0.7887 - val_accuracy: 0.7088\n",
            "\n",
            "Epoch 00025: saving model to /content/gdrive/My Drive/CNNs/pretrained/cp-0025.ckpt\n",
            "Epoch 26/47\n",
            "188/188 [==============================] - 1s 5ms/step - loss: 0.8564 - accuracy: 0.6860 - val_loss: 0.8151 - val_accuracy: 0.7058\n",
            "\n",
            "Epoch 00026: saving model to /content/gdrive/My Drive/CNNs/pretrained/cp-0026.ckpt\n",
            "Epoch 27/47\n",
            "188/188 [==============================] - 1s 5ms/step - loss: 0.8522 - accuracy: 0.6886 - val_loss: 0.7844 - val_accuracy: 0.7097\n",
            "\n",
            "Epoch 00027: saving model to /content/gdrive/My Drive/CNNs/pretrained/cp-0027.ckpt\n",
            "Epoch 28/47\n",
            "188/188 [==============================] - 1s 5ms/step - loss: 0.8591 - accuracy: 0.6828 - val_loss: 0.7876 - val_accuracy: 0.7090\n",
            "\n",
            "Epoch 00028: saving model to /content/gdrive/My Drive/CNNs/pretrained/cp-0028.ckpt\n",
            "Epoch 29/47\n",
            "188/188 [==============================] - 1s 6ms/step - loss: 0.8554 - accuracy: 0.6855 - val_loss: 0.7844 - val_accuracy: 0.7115\n",
            "\n",
            "Epoch 00029: saving model to /content/gdrive/My Drive/CNNs/pretrained/cp-0029.ckpt\n",
            "Epoch 30/47\n",
            "188/188 [==============================] - 1s 5ms/step - loss: 0.8512 - accuracy: 0.6850 - val_loss: 0.7618 - val_accuracy: 0.7222\n",
            "\n",
            "Epoch 00030: saving model to /content/gdrive/My Drive/CNNs/pretrained/cp-0030.ckpt\n",
            "Epoch 31/47\n",
            "188/188 [==============================] - 1s 5ms/step - loss: 0.8456 - accuracy: 0.6906 - val_loss: 0.7713 - val_accuracy: 0.7277\n",
            "\n",
            "Epoch 00031: saving model to /content/gdrive/My Drive/CNNs/pretrained/cp-0031.ckpt\n",
            "Epoch 32/47\n",
            "188/188 [==============================] - 1s 5ms/step - loss: 0.8557 - accuracy: 0.6860 - val_loss: 0.7926 - val_accuracy: 0.7053\n",
            "\n",
            "Epoch 00032: saving model to /content/gdrive/My Drive/CNNs/pretrained/cp-0032.ckpt\n",
            "Epoch 33/47\n",
            "188/188 [==============================] - 1s 5ms/step - loss: 0.8525 - accuracy: 0.6854 - val_loss: 0.7799 - val_accuracy: 0.7212\n",
            "\n",
            "Epoch 00033: saving model to /content/gdrive/My Drive/CNNs/pretrained/cp-0033.ckpt\n",
            "Epoch 34/47\n",
            "188/188 [==============================] - 1s 6ms/step - loss: 0.8644 - accuracy: 0.6830 - val_loss: 0.7473 - val_accuracy: 0.7294\n",
            "\n",
            "Epoch 00034: saving model to /content/gdrive/My Drive/CNNs/pretrained/cp-0034.ckpt\n",
            "Epoch 35/47\n",
            "188/188 [==============================] - 1s 5ms/step - loss: 0.8370 - accuracy: 0.6915 - val_loss: 0.7732 - val_accuracy: 0.7159\n",
            "\n",
            "Epoch 00035: saving model to /content/gdrive/My Drive/CNNs/pretrained/cp-0035.ckpt\n",
            "Epoch 36/47\n",
            "188/188 [==============================] - 1s 6ms/step - loss: 0.8546 - accuracy: 0.6870 - val_loss: 0.7638 - val_accuracy: 0.7193\n",
            "\n",
            "Epoch 00036: saving model to /content/gdrive/My Drive/CNNs/pretrained/cp-0036.ckpt\n",
            "Epoch 37/47\n",
            "188/188 [==============================] - 1s 5ms/step - loss: 0.8394 - accuracy: 0.6932 - val_loss: 0.7404 - val_accuracy: 0.7281\n",
            "\n",
            "Epoch 00037: saving model to /content/gdrive/My Drive/CNNs/pretrained/cp-0037.ckpt\n",
            "Epoch 38/47\n",
            "188/188 [==============================] - 1s 5ms/step - loss: 0.8227 - accuracy: 0.7009 - val_loss: 0.7881 - val_accuracy: 0.7135\n",
            "\n",
            "Epoch 00038: saving model to /content/gdrive/My Drive/CNNs/pretrained/cp-0038.ckpt\n",
            "Epoch 39/47\n",
            "188/188 [==============================] - 1s 5ms/step - loss: 0.8536 - accuracy: 0.6820 - val_loss: 0.7398 - val_accuracy: 0.7318\n",
            "\n",
            "Epoch 00039: saving model to /content/gdrive/My Drive/CNNs/pretrained/cp-0039.ckpt\n",
            "Epoch 40/47\n",
            "188/188 [==============================] - 1s 5ms/step - loss: 0.8302 - accuracy: 0.6915 - val_loss: 0.7398 - val_accuracy: 0.7313\n",
            "\n",
            "Epoch 00040: saving model to /content/gdrive/My Drive/CNNs/pretrained/cp-0040.ckpt\n",
            "Epoch 41/47\n",
            "188/188 [==============================] - 1s 5ms/step - loss: 0.8253 - accuracy: 0.6932 - val_loss: 0.7897 - val_accuracy: 0.7043\n",
            "\n",
            "Epoch 00041: saving model to /content/gdrive/My Drive/CNNs/pretrained/cp-0041.ckpt\n",
            "Epoch 42/47\n",
            "188/188 [==============================] - 1s 6ms/step - loss: 0.8451 - accuracy: 0.6889 - val_loss: 0.7591 - val_accuracy: 0.7252\n",
            "\n",
            "Epoch 00042: saving model to /content/gdrive/My Drive/CNNs/pretrained/cp-0042.ckpt\n",
            "Epoch 43/47\n",
            "188/188 [==============================] - 1s 6ms/step - loss: 0.8288 - accuracy: 0.6971 - val_loss: 0.7453 - val_accuracy: 0.7222\n",
            "\n",
            "Epoch 00043: saving model to /content/gdrive/My Drive/CNNs/pretrained/cp-0043.ckpt\n",
            "Epoch 44/47\n",
            "188/188 [==============================] - 1s 5ms/step - loss: 0.8235 - accuracy: 0.6981 - val_loss: 0.7343 - val_accuracy: 0.7257\n",
            "\n",
            "Epoch 00044: saving model to /content/gdrive/My Drive/CNNs/pretrained/cp-0044.ckpt\n",
            "Epoch 45/47\n",
            "188/188 [==============================] - 1s 6ms/step - loss: 0.8228 - accuracy: 0.6950 - val_loss: 0.7599 - val_accuracy: 0.7185\n",
            "\n",
            "Epoch 00045: saving model to /content/gdrive/My Drive/CNNs/pretrained/cp-0045.ckpt\n",
            "Epoch 46/47\n",
            "188/188 [==============================] - 1s 5ms/step - loss: 0.8462 - accuracy: 0.6903 - val_loss: 0.7570 - val_accuracy: 0.7209\n",
            "\n",
            "Epoch 00046: saving model to /content/gdrive/My Drive/CNNs/pretrained/cp-0046.ckpt\n",
            "Epoch 47/47\n",
            "188/188 [==============================] - 1s 5ms/step - loss: 0.8310 - accuracy: 0.6942 - val_loss: 0.7372 - val_accuracy: 0.7345\n",
            "\n",
            "Epoch 00047: saving model to /content/gdrive/My Drive/CNNs/pretrained/cp-0047.ckpt\n"
          ],
          "name": "stdout"
        }
      ]
    },
    {
      "cell_type": "markdown",
      "metadata": {
        "id": "WEF9z6lWFMJC"
      },
      "source": [
        "# Analysis"
      ]
    },
    {
      "cell_type": "markdown",
      "metadata": {
        "id": "mh46vpoO_3_Z"
      },
      "source": [
        "Feature Extraction run on test set"
      ]
    },
    {
      "cell_type": "code",
      "metadata": {
        "colab": {
          "base_uri": "https://localhost:8080/"
        },
        "id": "oGIVANWfUU7f",
        "outputId": "c3f8a376-82a3-4e8f-ce82-2b6893a54c91"
      },
      "source": [
        "f_test = prmodel.predict(np.array(x_test), batch_size = BATCH_SIZE, verbose = 1) \n",
        "np.savez(\"f_test\", f_test, y_test) \n",
        "f_test = np.reshape(f_test, (f_test.shape[0], size)) "
      ],
      "execution_count": null,
      "outputs": [
        {
          "output_type": "stream",
          "text": [
            "40/40 [==============================] - 5s 118ms/step\n"
          ],
          "name": "stdout"
        }
      ]
    },
    {
      "cell_type": "code",
      "metadata": {
        "colab": {
          "base_uri": "https://localhost:8080/"
        },
        "id": "cwUyTDPMUUv0",
        "outputId": "90c313d0-af92-430f-981e-3f057385d2fc"
      },
      "source": [
        "score = model.evaluate(f_test, y_test, verbose=0)\n",
        "print('Loss on running test : ', score[0])\n",
        "print('Accuracy on running test : ', score[1])"
      ],
      "execution_count": null,
      "outputs": [
        {
          "output_type": "stream",
          "text": [
            "Loss on running test :  0.7660725712776184\n",
            "Accuracy on running test :  0.7239999771118164\n"
          ],
          "name": "stdout"
        }
      ]
    },
    {
      "cell_type": "code",
      "metadata": {
        "id": "LZALXb0RAh8G"
      },
      "source": [
        "# x_train.shape[0], BATCH_SIZE, EPOCH_SIZE, hw, VGG code, No. of additional layers -> Test set accuracy \n",
        "# 48000, 64, 40, 48, 16, 3 -> 0.722\n",
        "# 48000, 64, 30, 48, 16, 3 -> 0.725\n",
        "# 48000, 256, 50, 60, 16, 3 -> 0.729\n",
        "# 48000, 128, 50, 70, 16, 3 -> 0.70 \n",
        "# 48000, 256, 47, 70, 16, 3, -> 0.737 - Highest accuracy achieved\n",
        "\n",
        "# VGG19 seemed to give the same or worse results than VGG16 "
      ],
      "execution_count": null,
      "outputs": []
    },
    {
      "cell_type": "markdown",
      "metadata": {
        "id": "--phnAjefhXK"
      },
      "source": [
        "# Plots"
      ]
    },
    {
      "cell_type": "code",
      "metadata": {
        "colab": {
          "base_uri": "https://localhost:8080/"
        },
        "id": "83_Cb8i2UT5g",
        "outputId": "8234c87b-7e24-4edd-f930-3ce87f09ffbe"
      },
      "source": [
        "print(history.history.keys())"
      ],
      "execution_count": null,
      "outputs": [
        {
          "output_type": "stream",
          "text": [
            "dict_keys(['loss', 'accuracy', 'val_loss', 'val_accuracy'])\n"
          ],
          "name": "stdout"
        }
      ]
    },
    {
      "cell_type": "code",
      "metadata": {
        "colab": {
          "base_uri": "https://localhost:8080/",
          "height": 545
        },
        "id": "_WTp7CqcDJf0",
        "outputId": "08233b08-9035-42a6-ae5c-02347b69718b"
      },
      "source": [
        "acc = history.history['accuracy']\n",
        "val_acc = history.history['val_accuracy']\n",
        "loss = history.history['loss']\n",
        "val_loss = history.history['val_loss']\n",
        "epochs = range(1, len(acc) + 1)\n",
        "\n",
        "plt.title('Training and validation Accuracy')\n",
        "plt.plot(epochs, acc, 'purple', label='Training Accuracy')\n",
        "plt.plot(epochs, val_acc, 'green', label = 'Validation Accuracy')\n",
        "plt.legend()\n",
        "\n",
        "plt.figure()\n",
        "plt.title('Training and validation loss')\n",
        "plt.plot(epochs, loss, 'purple', label = 'Training loss')\n",
        "plt.plot(epochs, val_loss, 'green', label = 'Validation loss')\n",
        "\n",
        "plt.legend()\n",
        "\n",
        "plt.show()"
      ],
      "execution_count": null,
      "outputs": [
        {
          "output_type": "display_data",
          "data": {
            "image/png": "[encoded data removed]",
            "text/plain": [
              "<Figure size 432x288 with 1 Axes>"
            ]
          },
          "metadata": {
            "tags": [],
            "needs_background": "light"
          }
        },
        {
          "output_type": "display_data",
          "data": {
            "image/png": "[encoded data removed]",
            "text/plain": [
              "<Figure size 432x288 with 1 Axes>"
            ]
          },
          "metadata": {
            "tags": [],
            "needs_background": "light"
          }
        }
      ]
    }
  ]
}